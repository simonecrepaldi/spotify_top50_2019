{
 "cells": [
  {
   "cell_type": "code",
   "execution_count": 4,
   "metadata": {},
   "outputs": [],
   "source": [
    "# Importando as bibliotecas\n",
    "import pandas as pd\n",
    "import numpy as np\n",
    "import seaborn as sns"
   ]
  },
  {
   "cell_type": "code",
   "execution_count": 5,
   "metadata": {},
   "outputs": [],
   "source": [
    "# Importando o arquivo csv\n",
    "filename='top50.csv'\n",
    "dados=pd.read_csv(filename,encoding='ISO-8859-1')"
   ]
  },
  {
   "cell_type": "code",
   "execution_count": 6,
   "metadata": {},
   "outputs": [
    {
     "name": "stdout",
     "output_type": "stream",
     "text": [
      "<class 'pandas.core.frame.DataFrame'>\n",
      "RangeIndex: 50 entries, 0 to 49\n",
      "Data columns (total 14 columns):\n",
      " #   Column            Non-Null Count  Dtype \n",
      "---  ------            --------------  ----- \n",
      " 0   Unnamed: 0        50 non-null     int64 \n",
      " 1   Track.Name        50 non-null     object\n",
      " 2   Artist.Name       50 non-null     object\n",
      " 3   Genre             50 non-null     object\n",
      " 4   Beats.Per.Minute  50 non-null     int64 \n",
      " 5   Energy            50 non-null     int64 \n",
      " 6   Danceability      50 non-null     int64 \n",
      " 7   Loudness..dB..    50 non-null     int64 \n",
      " 8   Liveness          50 non-null     int64 \n",
      " 9   Valence.          50 non-null     int64 \n",
      " 10  Length.           50 non-null     int64 \n",
      " 11  Acousticness..    50 non-null     int64 \n",
      " 12  Speechiness.      50 non-null     int64 \n",
      " 13  Popularity        50 non-null     int64 \n",
      "dtypes: int64(11), object(3)\n",
      "memory usage: 5.6+ KB\n"
     ]
    }
   ],
   "source": [
    "dados.info()"
   ]
  },
  {
   "cell_type": "code",
   "execution_count": 7,
   "metadata": {},
   "outputs": [
    {
     "data": {
      "text/plain": [
       "0"
      ]
     },
     "execution_count": 7,
     "metadata": {},
     "output_type": "execute_result"
    }
   ],
   "source": [
    "# Verificando se há dados duplicados\n",
    "dados.duplicated().sum()"
   ]
  },
  {
   "cell_type": "markdown",
   "metadata": {},
   "source": [
    "Temos 14 colunas no nosso conjunto de dados. Também podemos observar que não temos nenhum dado nulo ou duplicado, portanto não será necessário fazer nenhum tratamento nesse momento."
   ]
  },
  {
   "cell_type": "code",
   "execution_count": 8,
   "metadata": {},
   "outputs": [
    {
     "data": {
      "text/html": [
       "<div>\n",
       "<style scoped>\n",
       "    .dataframe tbody tr th:only-of-type {\n",
       "        vertical-align: middle;\n",
       "    }\n",
       "\n",
       "    .dataframe tbody tr th {\n",
       "        vertical-align: top;\n",
       "    }\n",
       "\n",
       "    .dataframe thead th {\n",
       "        text-align: right;\n",
       "    }\n",
       "</style>\n",
       "<table border=\"1\" class=\"dataframe\">\n",
       "  <thead>\n",
       "    <tr style=\"text-align: right;\">\n",
       "      <th></th>\n",
       "      <th>Unnamed: 0</th>\n",
       "      <th>Track.Name</th>\n",
       "      <th>Artist.Name</th>\n",
       "      <th>Genre</th>\n",
       "      <th>Beats.Per.Minute</th>\n",
       "      <th>Energy</th>\n",
       "      <th>Danceability</th>\n",
       "      <th>Loudness..dB..</th>\n",
       "      <th>Liveness</th>\n",
       "      <th>Valence.</th>\n",
       "      <th>Length.</th>\n",
       "      <th>Acousticness..</th>\n",
       "      <th>Speechiness.</th>\n",
       "      <th>Popularity</th>\n",
       "    </tr>\n",
       "  </thead>\n",
       "  <tbody>\n",
       "    <tr>\n",
       "      <th>0</th>\n",
       "      <td>1</td>\n",
       "      <td>Señorita</td>\n",
       "      <td>Shawn Mendes</td>\n",
       "      <td>canadian pop</td>\n",
       "      <td>117</td>\n",
       "      <td>55</td>\n",
       "      <td>76</td>\n",
       "      <td>-6</td>\n",
       "      <td>8</td>\n",
       "      <td>75</td>\n",
       "      <td>191</td>\n",
       "      <td>4</td>\n",
       "      <td>3</td>\n",
       "      <td>79</td>\n",
       "    </tr>\n",
       "    <tr>\n",
       "      <th>1</th>\n",
       "      <td>2</td>\n",
       "      <td>China</td>\n",
       "      <td>Anuel AA</td>\n",
       "      <td>reggaeton flow</td>\n",
       "      <td>105</td>\n",
       "      <td>81</td>\n",
       "      <td>79</td>\n",
       "      <td>-4</td>\n",
       "      <td>8</td>\n",
       "      <td>61</td>\n",
       "      <td>302</td>\n",
       "      <td>8</td>\n",
       "      <td>9</td>\n",
       "      <td>92</td>\n",
       "    </tr>\n",
       "    <tr>\n",
       "      <th>2</th>\n",
       "      <td>3</td>\n",
       "      <td>boyfriend (with Social House)</td>\n",
       "      <td>Ariana Grande</td>\n",
       "      <td>dance pop</td>\n",
       "      <td>190</td>\n",
       "      <td>80</td>\n",
       "      <td>40</td>\n",
       "      <td>-4</td>\n",
       "      <td>16</td>\n",
       "      <td>70</td>\n",
       "      <td>186</td>\n",
       "      <td>12</td>\n",
       "      <td>46</td>\n",
       "      <td>85</td>\n",
       "    </tr>\n",
       "    <tr>\n",
       "      <th>3</th>\n",
       "      <td>4</td>\n",
       "      <td>Beautiful People (feat. Khalid)</td>\n",
       "      <td>Ed Sheeran</td>\n",
       "      <td>pop</td>\n",
       "      <td>93</td>\n",
       "      <td>65</td>\n",
       "      <td>64</td>\n",
       "      <td>-8</td>\n",
       "      <td>8</td>\n",
       "      <td>55</td>\n",
       "      <td>198</td>\n",
       "      <td>12</td>\n",
       "      <td>19</td>\n",
       "      <td>86</td>\n",
       "    </tr>\n",
       "    <tr>\n",
       "      <th>4</th>\n",
       "      <td>5</td>\n",
       "      <td>Goodbyes (Feat. Young Thug)</td>\n",
       "      <td>Post Malone</td>\n",
       "      <td>dfw rap</td>\n",
       "      <td>150</td>\n",
       "      <td>65</td>\n",
       "      <td>58</td>\n",
       "      <td>-4</td>\n",
       "      <td>11</td>\n",
       "      <td>18</td>\n",
       "      <td>175</td>\n",
       "      <td>45</td>\n",
       "      <td>7</td>\n",
       "      <td>94</td>\n",
       "    </tr>\n",
       "    <tr>\n",
       "      <th>5</th>\n",
       "      <td>6</td>\n",
       "      <td>I Don't Care (with Justin Bieber)</td>\n",
       "      <td>Ed Sheeran</td>\n",
       "      <td>pop</td>\n",
       "      <td>102</td>\n",
       "      <td>68</td>\n",
       "      <td>80</td>\n",
       "      <td>-5</td>\n",
       "      <td>9</td>\n",
       "      <td>84</td>\n",
       "      <td>220</td>\n",
       "      <td>9</td>\n",
       "      <td>4</td>\n",
       "      <td>84</td>\n",
       "    </tr>\n",
       "    <tr>\n",
       "      <th>6</th>\n",
       "      <td>7</td>\n",
       "      <td>Ransom</td>\n",
       "      <td>Lil Tecca</td>\n",
       "      <td>trap music</td>\n",
       "      <td>180</td>\n",
       "      <td>64</td>\n",
       "      <td>75</td>\n",
       "      <td>-6</td>\n",
       "      <td>7</td>\n",
       "      <td>23</td>\n",
       "      <td>131</td>\n",
       "      <td>2</td>\n",
       "      <td>29</td>\n",
       "      <td>92</td>\n",
       "    </tr>\n",
       "    <tr>\n",
       "      <th>7</th>\n",
       "      <td>8</td>\n",
       "      <td>How Do You Sleep?</td>\n",
       "      <td>Sam Smith</td>\n",
       "      <td>pop</td>\n",
       "      <td>111</td>\n",
       "      <td>68</td>\n",
       "      <td>48</td>\n",
       "      <td>-5</td>\n",
       "      <td>8</td>\n",
       "      <td>35</td>\n",
       "      <td>202</td>\n",
       "      <td>15</td>\n",
       "      <td>9</td>\n",
       "      <td>90</td>\n",
       "    </tr>\n",
       "    <tr>\n",
       "      <th>8</th>\n",
       "      <td>9</td>\n",
       "      <td>Old Town Road - Remix</td>\n",
       "      <td>Lil Nas X</td>\n",
       "      <td>country rap</td>\n",
       "      <td>136</td>\n",
       "      <td>62</td>\n",
       "      <td>88</td>\n",
       "      <td>-6</td>\n",
       "      <td>11</td>\n",
       "      <td>64</td>\n",
       "      <td>157</td>\n",
       "      <td>5</td>\n",
       "      <td>10</td>\n",
       "      <td>87</td>\n",
       "    </tr>\n",
       "    <tr>\n",
       "      <th>9</th>\n",
       "      <td>10</td>\n",
       "      <td>bad guy</td>\n",
       "      <td>Billie Eilish</td>\n",
       "      <td>electropop</td>\n",
       "      <td>135</td>\n",
       "      <td>43</td>\n",
       "      <td>70</td>\n",
       "      <td>-11</td>\n",
       "      <td>10</td>\n",
       "      <td>56</td>\n",
       "      <td>194</td>\n",
       "      <td>33</td>\n",
       "      <td>38</td>\n",
       "      <td>95</td>\n",
       "    </tr>\n",
       "  </tbody>\n",
       "</table>\n",
       "</div>"
      ],
      "text/plain": [
       "   Unnamed: 0                         Track.Name    Artist.Name  \\\n",
       "0           1                           Señorita   Shawn Mendes   \n",
       "1           2                              China       Anuel AA   \n",
       "2           3      boyfriend (with Social House)  Ariana Grande   \n",
       "3           4    Beautiful People (feat. Khalid)     Ed Sheeran   \n",
       "4           5        Goodbyes (Feat. Young Thug)    Post Malone   \n",
       "5           6  I Don't Care (with Justin Bieber)     Ed Sheeran   \n",
       "6           7                             Ransom      Lil Tecca   \n",
       "7           8                  How Do You Sleep?      Sam Smith   \n",
       "8           9              Old Town Road - Remix      Lil Nas X   \n",
       "9          10                            bad guy  Billie Eilish   \n",
       "\n",
       "            Genre  Beats.Per.Minute  Energy  Danceability  Loudness..dB..  \\\n",
       "0    canadian pop               117      55            76              -6   \n",
       "1  reggaeton flow               105      81            79              -4   \n",
       "2       dance pop               190      80            40              -4   \n",
       "3             pop                93      65            64              -8   \n",
       "4         dfw rap               150      65            58              -4   \n",
       "5             pop               102      68            80              -5   \n",
       "6      trap music               180      64            75              -6   \n",
       "7             pop               111      68            48              -5   \n",
       "8     country rap               136      62            88              -6   \n",
       "9      electropop               135      43            70             -11   \n",
       "\n",
       "   Liveness  Valence.  Length.  Acousticness..  Speechiness.  Popularity  \n",
       "0         8        75      191               4             3          79  \n",
       "1         8        61      302               8             9          92  \n",
       "2        16        70      186              12            46          85  \n",
       "3         8        55      198              12            19          86  \n",
       "4        11        18      175              45             7          94  \n",
       "5         9        84      220               9             4          84  \n",
       "6         7        23      131               2            29          92  \n",
       "7         8        35      202              15             9          90  \n",
       "8        11        64      157               5            10          87  \n",
       "9        10        56      194              33            38          95  "
      ]
     },
     "execution_count": 8,
     "metadata": {},
     "output_type": "execute_result"
    }
   ],
   "source": [
    "# Verificando as 10 primeiras linhas\n",
    "dados.head(10)"
   ]
  },
  {
   "cell_type": "code",
   "execution_count": 10,
   "metadata": {},
   "outputs": [],
   "source": [
    "# Deletando a coluna \"Unnamed: 0\"\n",
    "db = dados.drop(columns = ['Unnamed: 0'])"
   ]
  },
  {
   "cell_type": "code",
   "execution_count": 11,
   "metadata": {},
   "outputs": [
    {
     "data": {
      "text/plain": [
       "Index(['Track.Name', 'Artist.Name', 'Genre', 'Beats.Per.Minute', 'Energy',\n",
       "       'Danceability', 'Loudness..dB..', 'Liveness', 'Valence.', 'Length.',\n",
       "       'Acousticness..', 'Speechiness.', 'Popularity'],\n",
       "      dtype='object')"
      ]
     },
     "execution_count": 11,
     "metadata": {},
     "output_type": "execute_result"
    }
   ],
   "source": [
    "# Verificando as colunas\n",
    "db.columns"
   ]
  },
  {
   "cell_type": "code",
   "execution_count": 12,
   "metadata": {},
   "outputs": [],
   "source": [
    "# Renomeando as colunas, retirando os \".\", para facilitar as análises\n",
    "db.columns=['TrackName','ArtistName','Genre','BeatsPerMinute','Energy','Danceability','LoudnessdB','Liveness','Valence','Lengh','Acousticness','Speechiness','Popularity']"
   ]
  },
  {
   "cell_type": "markdown",
   "metadata": {},
   "source": [
    "### **Dicionário das Colunas**:\n",
    "*   **TrackName**: título da música\n",
    "*   **ArtistName**: nome do artista\n",
    "*   **Genre**: gênero da música\n",
    "*   **BeatsPerMinute**: batidas por minuto\n",
    "*   **Energy**: quanto maior o valor, mais \"enérgica\" é a música\n",
    "*   **Danceability**: quanto maior o valor, mais \"dançante\" é a música\n",
    "*   **LoudnessdB**: quanto maior o valor, mais alta é a música\n",
    "*   **Liveness**: quanto maior o valor, maior a probabilidade da música ser uma gravação ao vivo\n",
    "*   **Valence**: quanto maior o valor, mais \"positiva\" é a música \n",
    "*   **Length**: tempo de duração da música em segundos\n",
    "*   **Acousticness**: quanto maior o valor, mais \"acústica\" é a música\n",
    "*   **Speechiness**: quanto maior o valor, mais palavras faladas a música contém\n",
    "*   **Popularity**: quanto maior o valor, mais popular a musica é"
   ]
  }
 ],
 "metadata": {
  "kernelspec": {
   "display_name": "Python 3.10.5 64-bit",
   "language": "python",
   "name": "python3"
  },
  "language_info": {
   "codemirror_mode": {
    "name": "ipython",
    "version": 3
   },
   "file_extension": ".py",
   "mimetype": "text/x-python",
   "name": "python",
   "nbconvert_exporter": "python",
   "pygments_lexer": "ipython3",
   "version": "3.10.7"
  },
  "orig_nbformat": 4,
  "vscode": {
   "interpreter": {
    "hash": "98590ff4fe04c8543246b2a01debd3de3c5ca9b666f43f1fa87d5110c692004c"
   }
  }
 },
 "nbformat": 4,
 "nbformat_minor": 2
}
